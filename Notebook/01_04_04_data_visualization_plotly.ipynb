{
  "cells": [
    {
      "cell_type": "markdown",
      "metadata": {
        "id": "view-in-github",
        "colab_type": "text"
      },
      "source": [
        "<a href=\"https://colab.research.google.com/github/zia207/R_Beginner/blob/main/Notebook/01_04_04_data_visualization_plotly.ipynb\" target=\"_parent\"><img src=\"https://colab.research.google.com/assets/colab-badge.svg\" alt=\"Open In Colab\"/></a>"
      ]
    },
    {
      "cell_type": "markdown",
      "metadata": {
        "id": "haqvoGB9aZjA"
      },
      "source": [
        "![alt text](http://drive.google.com/uc?export=view&id=1bLQ3nhDbZrCCqy_WCxxckOne2lgVvn3l)"
      ]
    },
    {
      "cell_type": "markdown",
      "metadata": {
        "id": "MGoP0AbXEAUx"
      },
      "source": [
        "# Interactive Data Visualization with the `plotly`\n",
        "\n",
        "\n",
        "The `plotly` package in R provides a powerful framework for creating interactive, web-based visualizations. It builds on the JavaScript Plotly library, offering dynamic plots like scatter, line, bar, and 3D charts that support zooming, panning, and tooltips. This tutorial introduces `plotly` for beginners, using built-in datasets like `iris` and `mtcars`. We'll cover basic plots, customization, and interactive features, assuming basic R knowledge.\n",
        "\n",
        "\n"
      ]
    },
    {
      "cell_type": "markdown",
      "source": [
        "## Installation and Setup\n",
        "\n",
        "Install the packages from CRAN if you haven't already:\n",
        "\n",
        "```r\n",
        "install.packages(c(\"plotly\"))\n",
        "```\n",
        "\n"
      ],
      "metadata": {
        "id": "Sc8tvrKALeaP"
      }
    },
    {
      "cell_type": "markdown",
      "metadata": {
        "id": "CdQJ-mgsEU9J"
      },
      "source": [
        "## Setup R in Python Runtype - Install {rpy2}\n",
        "\n",
        "{rpy2} is a Python package that provides an interface to the R programming language, allowing Python users to run R code, call R functions, and manipulate R objects directly from Python. It enables seamless integration between Python and R, leveraging R's statistical and graphical capabilities while using Python's flexibility. The package supports passing data between the two languages and is widely used for statistical analysis, data visualization, and machine learning tasks that benefit from R's specialized libraries."
      ]
    },
    {
      "cell_type": "code",
      "execution_count": 3,
      "metadata": {
        "id": "qOD7NpajDy5k",
        "colab": {
          "base_uri": "https://localhost:8080/"
        },
        "outputId": "f871f57b-6e97-44a1-da15-02761e5866a8"
      },
      "outputs": [
        {
          "output_type": "stream",
          "name": "stdout",
          "text": [
            "Found existing installation: rpy2 3.5.1\n",
            "Uninstalling rpy2-3.5.1:\n",
            "  Successfully uninstalled rpy2-3.5.1\n",
            "Collecting rpy2==3.5.1\n",
            "  Using cached rpy2-3.5.1-cp312-cp312-linux_x86_64.whl\n",
            "Requirement already satisfied: cffi>=1.10.0 in /usr/local/lib/python3.12/dist-packages (from rpy2==3.5.1) (2.0.0)\n",
            "Requirement already satisfied: jinja2 in /usr/local/lib/python3.12/dist-packages (from rpy2==3.5.1) (3.1.6)\n",
            "Requirement already satisfied: pytz in /usr/local/lib/python3.12/dist-packages (from rpy2==3.5.1) (2025.2)\n",
            "Requirement already satisfied: tzlocal in /usr/local/lib/python3.12/dist-packages (from rpy2==3.5.1) (5.3.1)\n",
            "Requirement already satisfied: pycparser in /usr/local/lib/python3.12/dist-packages (from cffi>=1.10.0->rpy2==3.5.1) (2.23)\n",
            "Requirement already satisfied: MarkupSafe>=2.0 in /usr/local/lib/python3.12/dist-packages (from jinja2->rpy2==3.5.1) (3.0.2)\n",
            "Installing collected packages: rpy2\n",
            "Successfully installed rpy2-3.5.1\n"
          ]
        }
      ],
      "source": [
        "!pip uninstall rpy2 -y\n",
        "!pip install rpy2==3.5.1\n",
        "%load_ext rpy2.ipython"
      ]
    },
    {
      "cell_type": "markdown",
      "metadata": {
        "id": "qmEDD0ccEurf"
      },
      "source": [
        "##  Mount Google Drive\n",
        "\n",
        "Then you must create a folder in Goole drive named \"R\" to install all packages permanently. Before installing R-package in Python runtime. You have to mount Google Drive and follow on-screen instruction:"
      ]
    },
    {
      "cell_type": "code",
      "execution_count": 4,
      "metadata": {
        "colab": {
          "base_uri": "https://localhost:8080/"
        },
        "id": "lClKZUW1Eu_G",
        "outputId": "03b21e63-84c8-4f21-9a64-febad85ac1b4"
      },
      "outputs": [
        {
          "output_type": "stream",
          "name": "stdout",
          "text": [
            "Drive already mounted at /content/drive; to attempt to forcibly remount, call drive.mount(\"/content/drive\", force_remount=True).\n"
          ]
        }
      ],
      "source": [
        "from google.colab import drive\n",
        "drive.mount('/content/drive')"
      ]
    },
    {
      "cell_type": "markdown",
      "metadata": {
        "id": "O8mTSRI-GknP"
      },
      "source": [
        "## Check and Install Required R Packages"
      ]
    },
    {
      "cell_type": "code",
      "execution_count": 5,
      "metadata": {
        "id": "JbN1rkO7Gh2j"
      },
      "outputs": [],
      "source": [
        "%%R\n",
        "packages <- c(\n",
        "          'tidyverse',\n",
        "          'plotly'\n",
        ")"
      ]
    },
    {
      "cell_type": "code",
      "execution_count": null,
      "metadata": {
        "id": "6m10lNUu-Ams",
        "colab": {
          "base_uri": "https://localhost:8080/"
        },
        "outputId": "8ba10cf9-8ab4-4aa5-97b1-772989183f1a"
      },
      "outputs": [
        {
          "output_type": "stream",
          "name": "stdout",
          "text": [
            "Installed packages:\n",
            "     lattice latticeExtra       mlmRev \n",
            "        TRUE         TRUE         TRUE \n"
          ]
        }
      ],
      "source": [
        "%%R\n",
        "# Install missing packages\n",
        "new.packages <- packages[!(packages %in% installed.packages(lib='drive/My Drive/R/')[,\"Package\"])]\n",
        "if(length(new.packages)) install.packages(new.packages, lib='drive/My Drive/R/')\n",
        "\n",
        "# Verify installation\n",
        "cat(\"Installed packages:\\n\")\n",
        "print(sapply(packages, requireNamespace, quietly = TRUE))"
      ]
    },
    {
      "cell_type": "markdown",
      "metadata": {
        "id": "DjDmVyITGsDh"
      },
      "source": [
        "## Load Packages"
      ]
    },
    {
      "cell_type": "code",
      "execution_count": 6,
      "metadata": {
        "id": "9Pn9zXgyGsMM"
      },
      "outputs": [],
      "source": [
        "%%R\n",
        "# set library path\n",
        ".libPaths('drive/My Drive/R')\n",
        "# Load packages with suppressed messages\n",
        "invisible(lapply(packages, function(pkg) {\n",
        "  suppressPackageStartupMessages(library(pkg, character.only = TRUE))\n",
        "}))"
      ]
    },
    {
      "cell_type": "code",
      "execution_count": null,
      "metadata": {
        "id": "mlYAtbQO-FCB",
        "colab": {
          "base_uri": "https://localhost:8080/"
        },
        "outputId": "aae52d92-2269-49e5-8287-c0be623e1f09"
      },
      "outputs": [
        {
          "output_type": "stream",
          "name": "stdout",
          "text": [
            "Successfully loaded packages:\n",
            " [1] \"package:dplyr\"     \"package:ggplot2\"   \"package:tools\"    \n",
            " [4] \"package:stats\"     \"package:graphics\"  \"package:grDevices\"\n",
            " [7] \"package:utils\"     \"package:datasets\"  \"package:methods\"  \n",
            "[10] \"package:base\"     \n"
          ]
        }
      ],
      "source": [
        "%%R\n",
        "# Check loaded packages\n",
        "cat(\"Successfully loaded packages:\\n\")\n",
        "print(search()[grepl(\"package:\", search())])"
      ]
    },
    {
      "cell_type": "markdown",
      "metadata": {
        "id": "gKxrhBBQSlhM"
      },
      "source": [
        "## Basic Scatter Plot\n",
        "\n",
        "Create a scatter plot using the `iris` dataset to visualize Sepal Length vs. Sepal Widt.\n",
        "\n",
        "The `plot_ly()` function is the core of `plotly`, using a formula interface (e.g., `x = ~variable`) to specify data. The `%>%` or `|>` pipe operator (from `magrittr`) chains commands for customization.\n"
      ]
    },
    {
      "cell_type": "markdown",
      "source": [
        "### Scatter Plots with `xyplot()`\n",
        "\n",
        "The `xyplot()` function creates scatter plots, ideal for two continuous variables."
      ],
      "metadata": {
        "id": "Z2HDVYjQX7pK"
      }
    },
    {
      "cell_type": "code",
      "execution_count": 7,
      "metadata": {
        "id": "1Fgvq_51EhQ8"
      },
      "outputs": [],
      "source": [
        "%%R -w 600 -h 400\n",
        "p1 <- plot_ly(data = iris,\n",
        "              x = ~Sepal.Length,\n",
        "              y = ~Sepal.Width,\n",
        "              type = \"scatter\",\n",
        "              mode = \"markers\",\n",
        "              marker = list(size = 10),\n",
        "              text = ~paste(\"Species:\", Species),\n",
        "              hoverinfo = \"text+x+y\") %>%\n",
        "  layout(title = \"Sepal Length vs. Width\",\n",
        "         xaxis = list(title = \"Sepal Length\"),\n",
        "         yaxis = list(title = \"Sepal Width\"))\n",
        "\n",
        "# Display the plot\n",
        "p1"
      ]
    },
    {
      "cell_type": "markdown",
      "source": [
        "## Scatter Plot with Grouping\n",
        "\n",
        "Add color grouping by species:"
      ],
      "metadata": {
        "id": "Cbf7q073MJVJ"
      }
    },
    {
      "cell_type": "code",
      "execution_count": 9,
      "metadata": {
        "id": "cZc1Ew_LEpsx"
      },
      "outputs": [],
      "source": [
        "%%R -w 600 -h 400\n",
        "p2 <- plot_ly(data = iris,\n",
        "              x = ~Sepal.Length,\n",
        "              y = ~Sepal.Width,\n",
        "              color = ~Species,  # Color by species\n",
        "              type = \"scatter\",\n",
        "              mode = \"markers\",\n",
        "              marker = list(size = 10),\n",
        "              text = ~paste(\"Species:\", Species),\n",
        "              hoverinfo = \"text+x+y\") %>%\n",
        "  layout(title = \"Sepal Length vs. Width by Species\",\n",
        "         xaxis = list(title = \"Sepal Length\"),\n",
        "         yaxis = list(title = \"Sepal Width\"),\n",
        "         showlegend = TRUE)\n",
        "\n",
        "p2"
      ]
    },
    {
      "cell_type": "markdown",
      "metadata": {
        "id": "X0j5DLDoE3rY"
      },
      "source": [
        "- `color = ~Species` assigns colors to each species.\n",
        "- `showlegend = TRUE` adds a legend."
      ]
    },
    {
      "cell_type": "markdown",
      "source": [
        "## Bar Plot\n",
        "\n",
        "Create a bar plot of cylinder counts from the `mtcars` dataset:\n"
      ],
      "metadata": {
        "id": "TLQLh9OxmILL"
      }
    },
    {
      "cell_type": "code",
      "execution_count": 10,
      "metadata": {
        "id": "hptoAbw4E713"
      },
      "outputs": [],
      "source": [
        "%%R -w 600 -h 400\n",
        "mtcars_cyl <- table(mtcars$cyl)\n",
        "cyl_data <- data.frame(cyl = names(mtcars_cyl), count = as.numeric(mtcars_cyl))\n",
        "\n",
        "p3 <- plot_ly(data = cyl_data,\n",
        "              x = ~cyl,\n",
        "              y = ~count,\n",
        "              type = \"bar\",\n",
        "              marker = list(color = c(\"#1f77b4\", \"#ff7f0e\", \"#2ca02c\"))) %>%\n",
        "  layout(title = \"Distribution of Cylinders in mtcars\",\n",
        "         xaxis = list(title = \"Number of Cylinders\"),\n",
        "         yaxis = list(title = \"Count\"))\n",
        "\n",
        "p3"
      ]
    },
    {
      "cell_type": "markdown",
      "source": [
        "- `table()` and `data.frame()` prepare the data.\n",
        "- `marker` sets custom bar colors.:"
      ],
      "metadata": {
        "id": "T6bpCSwhM0Ec"
      }
    },
    {
      "cell_type": "markdown",
      "source": [
        "## Line Plot\n",
        "\n",
        "Plot a time series of unemployment from the `economics` dataset (available in `ggplot2`):"
      ],
      "metadata": {
        "id": "gi6Lxy7-mSJW"
      }
    },
    {
      "cell_type": "code",
      "execution_count": 11,
      "metadata": {
        "id": "akNpwlKrFBf1"
      },
      "outputs": [],
      "source": [
        "%%R\n",
        "library(ggplot2)\n",
        "data(economics)\n",
        "\n",
        "p4 <- plot_ly(data = economics,\n",
        "              x = ~date,\n",
        "              y = ~unemploy,\n",
        "              type = \"scatter\",\n",
        "              mode = \"lines\",\n",
        "              line = list(color = \"#d62728\", width = 2)) %>%\n",
        "  layout(title = \"US Unemployment Over Time\",\n",
        "         xaxis = list(title = \"Year\"),\n",
        "         yaxis = list(title = \"Unemployment\"))\n",
        "\n",
        "p4"
      ]
    },
    {
      "cell_type": "markdown",
      "source": [
        "- `mode = \"lines\"` creates a continuous line.\n",
        "- `line` customizes color and width.\n"
      ],
      "metadata": {
        "id": "WDy2N4eImY3i"
      }
    },
    {
      "cell_type": "markdown",
      "metadata": {
        "id": "pJ_sy7hlFHpR"
      },
      "source": [
        "## 3D Scatter Plot\n",
        "\n",
        "Create a 3D scatter plot with `iris` data:.\n",
        "\n"
      ]
    },
    {
      "cell_type": "code",
      "execution_count": 12,
      "metadata": {
        "id": "iEvd12abFJmZ"
      },
      "outputs": [],
      "source": [
        "%%R -w 800 -h 600\n",
        "p5 <- plot_ly(data = iris,\n",
        "              x = ~Sepal.Length,\n",
        "              y = ~Sepal.Width,\n",
        "              z = ~Petal.Length,\n",
        "              color = ~Species,\n",
        "              type = \"scatter3d\",\n",
        "              mode = \"markers\",\n",
        "              marker = list(size = 5)) %>%\n",
        "  layout(title = \"3D Scatter Plot of Iris Data\",\n",
        "         scene = list(xaxis = list(title = \"Sepal Length\"),\n",
        "                      yaxis = list(title = \"Sepal Width\"),\n",
        "                      zaxis = list(title = \"Petal Length\")))\n",
        "\n",
        "p5"
      ]
    },
    {
      "cell_type": "markdown",
      "source": [
        "- `type = \"scatter3d\"` enables 3D plotting.\n",
        "- `scene` customizes 3D axes.\n"
      ],
      "metadata": {
        "id": "x7YiAUjpNKY7"
      }
    },
    {
      "cell_type": "markdown",
      "source": [
        "## Box Plot"
      ],
      "metadata": {
        "id": "QP3cvi1VdiBj"
      }
    },
    {
      "cell_type": "code",
      "execution_count": 13,
      "metadata": {
        "id": "BMz4JFVPFZlN"
      },
      "outputs": [],
      "source": [
        "%%R\n",
        "data(quakes)  # Load quakes dataset\n",
        "# Create depth bins\n",
        "quakes$depth_bin <- cut(quakes$depth, breaks = seq(0, 700, by = 100),\n",
        "                        labels = paste0(seq(0, 600, by = 100), \"-\", seq(100, 700, by = 100), \" km\"))\n",
        "\n",
        "# Box plot\n",
        "p2 <- plot_ly(data = quakes, x = ~depth_bin, y = ~mag, type = \"box\",\n",
        "              color = ~depth_bin, colors = \"Set2\") %>%\n",
        "  layout(title = \"Box Plot of Earthquake Magnitude by Depth Bin\",\n",
        "         xaxis = list(title = \"Depth Bin (km)\"),\n",
        "         yaxis = list(title = \"Magnitude (Richter)\"),\n",
        "         showlegend = FALSE,\n",
        "         width = 700,  # Width in pixels\n",
        "         height = 500)\n",
        "\n",
        "p2"
      ]
    },
    {
      "cell_type": "markdown",
      "source": [
        "## Heatmap"
      ],
      "metadata": {
        "id": "RLu667tMeBcg"
      }
    },
    {
      "cell_type": "code",
      "execution_count": 14,
      "metadata": {
        "id": "yg813S5tGNC3"
      },
      "outputs": [],
      "source": [
        "%%R -w 700 -h 700\n",
        "p1 <- plot_ly(data = quakes,\n",
        "              x = ~long,\n",
        "              y = ~lat,\n",
        "              type = \"histogram2d\",\n",
        "              nbinsx = 20, nbinsy = 20,\n",
        "              colorscale = \"Viridis\") %>%\n",
        "  layout(title = \"Heatmap of Earthquake Locations\",\n",
        "         xaxis = list(title = \"Longitude\"),\n",
        "         yaxis = list(title = \"Latitude\"),\n",
        "         width = 700,  # Width in pixels\n",
        "         height = 500,  # Height in pixelsS\n",
        "         yaxis = list(title = \"Latitude\"))\n",
        "\n",
        "p1"
      ]
    },
    {
      "cell_type": "markdown",
      "metadata": {
        "id": "8FyowqdjJ2Xt"
      },
      "source": [
        "# Contour Plot\n",
        "\n",
        "```r\n",
        "p3 <- plot_ly(data = quakes,\n",
        "              x = ~long,\n",
        "              y = ~lat,\n",
        "              z = ~depth,\n",
        "              type = \"contour\",\n",
        "              contours = list(showlabels = TRUE),\n",
        "              colorscale = \"Hot\") %>%\n",
        "  layout(title = \"Contour Plot of Earthquake Depth\",\n",
        "         xaxis = list(title = \"Longitude\"),\n",
        "         yaxis = list(title = \"Latitude\"))\n",
        "\n",
        "p3\n",
        "```"
      ]
    },
    {
      "cell_type": "markdown",
      "source": [
        "##  Subplots\n",
        "\n",
        "Combine multiple plots into a single figure:"
      ],
      "metadata": {
        "id": "HtQ5ixsQm3Uy"
      }
    },
    {
      "cell_type": "code",
      "execution_count": 15,
      "metadata": {
        "id": "Z0l93hxdG6b_"
      },
      "outputs": [],
      "source": [
        "%%R -w 600 -h 400\n",
        "p6 <- subplot(p2, p3, nrows = 2, shareX = FALSE) %>%\n",
        "  layout(title = \"Combined Scatter and Bar Plots\",\n",
        "         showlegend = TRUE)\n",
        "\n",
        "p6"
      ]
    },
    {
      "cell_type": "markdown",
      "source": [
        "- `subplot()` stacks plots vertically (`nrows = 2`).\n",
        "- `shareX = FALSE` allows independent x-axes."
      ],
      "metadata": {
        "id": "i1nfS8_ym9Nn"
      }
    },
    {
      "cell_type": "markdown",
      "metadata": {
        "id": "TUVQPkZtLMb-"
      },
      "source": [
        "## Adding Annotations\n",
        "\n",
        "Add text annotations to a scatter plot:\n",
        "\n",
        "\n"
      ]
    },
    {
      "cell_type": "code",
      "execution_count": 16,
      "metadata": {
        "id": "MQ7YEMR2J2wO"
      },
      "outputs": [],
      "source": [
        "%%R -w 800 -h 700\n",
        "p7 <- plot_ly(data = iris,\n",
        "              x = ~Sepal.Length,\n",
        "              y = ~Sepal.Width,\n",
        "              type = \"scatter\",\n",
        "              mode = \"markers\") %>%\n",
        "  layout(title = \"Scatter Plot with Annotation\",\n",
        "         xaxis = list(title = \"Sepal Length\"),\n",
        "         yaxis = list(title = \"Sepal Width\"),\n",
        "         annotations = list(\n",
        "           list(x = 6, y = 4,\n",
        "                text = \"Note: Zoom or pan to explore!\",\n",
        "                showarrow = TRUE,\n",
        "                arrowhead = 2,\n",
        "                ax = 20, ay = -30)))\n",
        "\n",
        "p7\n"
      ]
    },
    {
      "cell_type": "markdown",
      "source": [
        "- `annotations` adds text with an arrow at coordinates (6, 4)."
      ],
      "metadata": {
        "id": "DfNPIRxnejfG"
      }
    },
    {
      "cell_type": "markdown",
      "metadata": {
        "id": "RgrM-XgrHQ6u"
      },
      "source": [
        "## Exporting a Plot\n",
        "\n",
        "Save an interactive plot as an HTML file:\n",
        "▶\n",
        "\n",
        "> htmlwidgets::saveWidget(p2, \"iris_scatter.html\")"
      ]
    },
    {
      "cell_type": "markdown",
      "source": [
        "## Best Practices\n",
        "\n",
        "- **Data Preparation**: Use data frames. Summarize data with `table()` or `dplyr` for bar plots or aggregations.\n",
        "- **Interactivity**: Leverage `plotly`’s zoom, pan, and hover features for data exploration.\n",
        "- **Customization**: Use `layout()` for titles, axes, and annotations; `marker` or `line` for styling points and lines.\n",
        "- **Performance**: For large datasets, sample or aggregate to improve rendering speed.\n",
        "- **Resources**: Explore `?plot_ly` or the [Plotly R documentation](https://plotly.com/r/) for advanced features like heatmaps, box plots, or animations.\n"
      ],
      "metadata": {
        "id": "lZo_gFmfOiLK"
      }
    },
    {
      "cell_type": "markdown",
      "metadata": {
        "id": "8c8IQylfWnMj"
      },
      "source": [
        "## Summary and Conclusions\n",
        "\n",
        "This `plotly` tutorial demonstrated creating interactive visualizations in R using the `quakes` dataset (1000 seismic events near the Tonga Trench). It covered heatmap (`histogram2d`), box, and contour plots with `plot_ly()`, plus size adjustments via `layout(width, height)`. Examples showed earthquake location density, magnitude distributions by depth bins, and depth contours across latitude and longitude. The tutorial fixed errors (e.g., `hist2d` to `histogram2d`) and provided best practices for data preparation, interactivity, and performance.\n",
        "\n",
        "`plotly` excels at creating interactive, web-based plots with zooming, panning, and tooltips, surpassing `lattice` for dynamic visualizations. It’s ideal for exploring multivariate data like `quakes` but requires careful binning or subsampling for large datasets. The formula interface and customization options make it versatile, complementing static tools like `lattice` or `ggplot2`.\n"
      ]
    },
    {
      "cell_type": "markdown",
      "metadata": {
        "id": "0Ovc25MJTsD8"
      },
      "source": [
        "## Resources\n",
        "\n",
        "- [Plotly R Documentation](https://plotly.com/r/) for plot types and options.\n",
        "- `?plot_ly` for function details.\n",
        "- [Plotly R Layout Guide](https://plotly.com/r/reference/layout/) for sizing and styling.\n",
        "\n"
      ]
    }
  ],
  "metadata": {
    "colab": {
      "provenance": [],
      "toc_visible": true,
      "include_colab_link": true
    },
    "kernelspec": {
      "display_name": "Python 3",
      "name": "python3"
    },
    "language_info": {
      "name": "python"
    }
  },
  "nbformat": 4,
  "nbformat_minor": 0
}